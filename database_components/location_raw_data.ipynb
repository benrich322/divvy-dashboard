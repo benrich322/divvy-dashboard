{
 "cells": [
  {
   "cell_type": "code",
   "execution_count": 55,
   "metadata": {},
   "outputs": [],
   "source": [
    "import pymongo\n",
    "from pymongo import MongoClient\n",
    "from pprint import pprint\n",
    "import json\n",
    "import geopandas as gpd"
   ]
  },
  {
   "cell_type": "code",
   "execution_count": 56,
   "metadata": {},
   "outputs": [
    {
     "name": "stdout",
     "output_type": "stream",
     "text": [
      "Collection Name: divvy_ride_data\n",
      "Count of Documents: 5667717\n"
     ]
    }
   ],
   "source": [
    "# Create an instance of MongoClient and specify the database name\n",
    "mongo = MongoClient(port=27017)\n",
    "db = mongo.divvy_db\n",
    "\n",
    "# Access the collection directly\n",
    "divvy_rides = db['divvy_ride_data']\n",
    "\n",
    "# Count the number of documents in the collection\n",
    "document_count = divvy_rides.count_documents({})\n",
    "\n",
    "# Print the collection name and the document count\n",
    "print(f\"Collection Name: {divvy_rides.name}\")\n",
    "print(f\"Count of Documents: {document_count}\")"
   ]
  },
  {
   "cell_type": "code",
   "execution_count": 57,
   "metadata": {},
   "outputs": [
    {
     "data": {
      "text/plain": [
       "<pymongo.command_cursor.CommandCursor at 0x123110f40>"
      ]
     },
     "execution_count": 57,
     "metadata": {},
     "output_type": "execute_result"
    }
   ],
   "source": [
    "# Access the collection\n",
    "station_names = db['station_names']\n",
    "\n",
    "# Delete the collection\n",
    "station_names.drop()\n",
    "\n",
    "# Specify the name of the source collection (your original data)\n",
    "source_collection_name = \"divvy_ride_data\"  # Replace with your source collection name\n",
    "\n",
    "# Access the source collection\n",
    "source_collection = db[source_collection_name]\n",
    "\n",
    "# Create an index on the \"start_station_name\" field\n",
    "source_collection.create_index([(\"start_station_name\", pymongo.ASCENDING)])\n",
    "\n",
    "# Aggregation pipeline to find unique start stations by \"start_station_name\", exclude blank start station names, and get the first \"start_lat\" and \"start_lng\"\n",
    "pipeline = [\n",
    "    {\n",
    "        \"$match\": {\n",
    "            \"start_station_name\": {\"$ne\": \"\"}\n",
    "        }\n",
    "    },\n",
    "    {\n",
    "        \"$group\": {\n",
    "            \"_id\": \"$start_station_name\",  # Use \"start_station_name\" as the _id\n",
    "            \"station_name\": {\"$first\": \"$start_station_name\"},  # Rename the field\n",
    "            \"lat\": {\"$first\": \"$start_lat\"},  # Get the first \"start_lat\" in each group\n",
    "            \"lng\": {\"$first\": \"$start_lng\"},  # Get the first \"start_lng\" in each group\n",
    "        }\n",
    "    },\n",
    "    {\n",
    "        \"$merge\": {\n",
    "            \"into\": \"station_names\",  # Name of the new collection\n",
    "            \"whenMatched\": \"merge\",  # How to handle conflicts\n",
    "            \"whenNotMatched\": \"insert\",  # How to handle non-matching documents\n",
    "        }\n",
    "    }\n",
    "]\n",
    "# Execute the aggregation pipeline using the aggregate method\n",
    "db[source_collection_name].aggregate(pipeline)"
   ]
  },
  {
   "cell_type": "code",
   "execution_count": 64,
   "metadata": {},
   "outputs": [],
   "source": [
    "station_names = db['station_names']"
   ]
  },
  {
   "cell_type": "markdown",
   "metadata": {},
   "source": [
    "### Add Chicago Neighborhoods"
   ]
  },
  {
   "cell_type": "code",
   "execution_count": 58,
   "metadata": {},
   "outputs": [],
   "source": [
    "# Load the GeoJSON file containing Chicago neighborhoods\n",
    "neighborhoods = gpd.read_file(\"location_data/chicago_neighborhoods.geojson\")\n",
    "\n",
    "# Define a function to find the neighborhood for a given longitude and latitude\n",
    "def find_neighborhood(lon, lat):\n",
    "    point = [lon, lat]\n",
    "    for index, row in neighborhoods.iterrows():\n",
    "        if row['geometry'].contains(gpd.points_from_xy([lon], [lat])[0]):\n",
    "            return row['pri_neigh']\n",
    "    return None"
   ]
  },
  {
   "cell_type": "code",
   "execution_count": 59,
   "metadata": {},
   "outputs": [],
   "source": [
    "for station in station_names.find():\n",
    "        lon = station.get('lng')\n",
    "        lat = station.get('lat')\n",
    "\n",
    "        # Calculate the new neighborhood\n",
    "        new_neighborhood = find_neighborhood(lon, lat)\n",
    "\n",
    "        # Update the document with the new neighborhood information\n",
    "        station_names.update_one(\n",
    "            {\"_id\": station[\"_id\"]},\n",
    "            {\"$set\": {\"neighborhood\": new_neighborhood}}\n",
    "        )"
   ]
  },
  {
   "cell_type": "markdown",
   "metadata": {},
   "source": [
    "### Add Chicago Wards"
   ]
  },
  {
   "cell_type": "code",
   "execution_count": 61,
   "metadata": {},
   "outputs": [],
   "source": [
    "# Load the GeoJSON file containing Chicago neighborhoods\n",
    "wards = gpd.read_file(\"location_data/chicago_wards.geojson\")\n",
    "\n",
    "# Define a function to find the neighborhood for a given longitude and latitude\n",
    "def find_ward(lon, lat):\n",
    "    point = [lon, lat]\n",
    "    for index, row in wards.iterrows():\n",
    "        if row['geometry'].contains(gpd.points_from_xy([lon], [lat])[0]):\n",
    "            return row['ward']\n",
    "    return None"
   ]
  },
  {
   "cell_type": "code",
   "execution_count": 65,
   "metadata": {},
   "outputs": [],
   "source": [
    "for station in station_names.find():\n",
    "        lon = station.get('lng')\n",
    "        lat = station.get('lat')\n",
    "\n",
    "        # Calculate the new neighborhood\n",
    "        new_ward = find_ward(lon, lat)\n",
    "\n",
    "        # Update the document with the new neighborhood information\n",
    "        station_names.update_one(\n",
    "            {\"_id\": station[\"_id\"]},\n",
    "            {\"$set\": {\"ward\": new_ward}}\n",
    "        )"
   ]
  },
  {
   "cell_type": "markdown",
   "metadata": {},
   "source": [
    "### Add Chicago Community Areas"
   ]
  },
  {
   "cell_type": "code",
   "execution_count": 69,
   "metadata": {},
   "outputs": [],
   "source": [
    "# Load the GeoJSON file containing Chicago neighborhoods\n",
    "community_area = gpd.read_file(\"location_data/chicago_community_area.geojson\")\n",
    "\n",
    "# Define a function to find the neighborhood for a given longitude and latitude\n",
    "def find_community_area(lon, lat):\n",
    "    point = [lon, lat]\n",
    "    for index, row in community_area.iterrows():\n",
    "        if row['geometry'].contains(gpd.points_from_xy([lon], [lat])[0]):\n",
    "            return row['community']\n",
    "    return None"
   ]
  },
  {
   "cell_type": "code",
   "execution_count": 70,
   "metadata": {},
   "outputs": [],
   "source": [
    "for station in station_names.find():\n",
    "        lon = station.get('lng')\n",
    "        lat = station.get('lat')\n",
    "\n",
    "        # Calculate the new neighborhood\n",
    "        new_community_area = find_community_area(lon, lat)\n",
    "\n",
    "        # Update the document with the new neighborhood information\n",
    "        station_names.update_one(\n",
    "            {\"_id\": station[\"_id\"]},\n",
    "            {\"$set\": {\"community_area\": new_community_area}}\n",
    "        )"
   ]
  },
  {
   "cell_type": "markdown",
   "metadata": {},
   "source": [
    "### Summarize station_names collection"
   ]
  },
  {
   "cell_type": "code",
   "execution_count": 71,
   "metadata": {},
   "outputs": [
    {
     "name": "stdout",
     "output_type": "stream",
     "text": [
      "Collection Name: station_names\n",
      "Count of Documents: 1674\n",
      "{'_id': '10101 S Stony Island Ave',\n",
      " 'community_area': 'SOUTH DEERING',\n",
      " 'lat': 41.71,\n",
      " 'lng': -87.58,\n",
      " 'neighborhood': 'South Deering',\n",
      " 'station_name': '10101 S Stony Island Ave',\n",
      " 'ward': '10'}\n"
     ]
    }
   ],
   "source": [
    "# Access the collection directly\n",
    "station_names = db['station_names']\n",
    "\n",
    "# Count the number of documents in the collection\n",
    "document_count = station_names.count_documents({})\n",
    "\n",
    "# Print the collection name and the document count\n",
    "print(f\"Collection Name: {station_names.name}\")\n",
    "print(f\"Count of Documents: {document_count}\")\n",
    "\n",
    "document = station_names.find_one()\n",
    "pprint(document)"
   ]
  }
 ],
 "metadata": {
  "kernelspec": {
   "display_name": "divvy-bikes",
   "language": "python",
   "name": "python3"
  },
  "language_info": {
   "codemirror_mode": {
    "name": "ipython",
    "version": 3
   },
   "file_extension": ".py",
   "mimetype": "text/x-python",
   "name": "python",
   "nbconvert_exporter": "python",
   "pygments_lexer": "ipython3",
   "version": "3.10.12"
  },
  "orig_nbformat": 4
 },
 "nbformat": 4,
 "nbformat_minor": 2
}
