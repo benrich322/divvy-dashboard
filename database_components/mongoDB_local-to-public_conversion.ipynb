{
 "cells": [
  {
   "cell_type": "code",
   "execution_count": 3,
   "metadata": {},
   "outputs": [],
   "source": [
    "from pymongo import MongoClient\n",
    "from config import connection_string"
   ]
  },
  {
   "cell_type": "code",
   "execution_count": 4,
   "metadata": {},
   "outputs": [],
   "source": [
    "# Connect to my local MongoDB database\n",
    "mongo = MongoClient(port=27017)\n",
    "mongo_public = MongoClient(connection_string)\n",
    "\n",
    "divvy_db = mongo.divvy_db \n",
    "divvy_db_public = mongo_public.divvy_db_public"
   ]
  },
  {
   "cell_type": "code",
   "execution_count": null,
   "metadata": {},
   "outputs": [],
   "source": [
    "# Local MongoDB instance\n",
    "local_db = mongo['divvy_db']\n",
    "local_collection_name = 'station_names'\n",
    "local_collection = local_db[local_collection_name]\n",
    "\n",
    "# Remote MongoDB instance (Atlas)\n",
    "remote_client = MongoClient(connection_string)\n",
    "remote_db = remote_client['divvy_db_public']\n",
    "remote_collection_name = 'station_names'\n",
    "remote_collection = remote_db[remote_collection_name]\n",
    "\n",
    "# Drop the remote collection to start fresh\n",
    "remote_collection.drop()\n",
    "\n",
    "# Iterate through documents in the local collection and insert into remote collection\n",
    "for document in local_collection.find():\n",
    "    remote_collection.insert_one(document)"
   ]
  },
  {
   "cell_type": "code",
   "execution_count": 7,
   "metadata": {},
   "outputs": [],
   "source": [
    "# Local MongoDB instance\n",
    "local_db = mongo['divvy_db']\n",
    "local_collection_name = 'divvy_rides_by_month'\n",
    "local_collection = local_db[local_collection_name]\n",
    "\n",
    "# Remote MongoDB instance (Atlas)\n",
    "remote_client = MongoClient(connection_string)\n",
    "remote_db = remote_client['divvy_db_public']\n",
    "remote_collection_name = 'divvy_rides_by_month'\n",
    "remote_collection = remote_db[remote_collection_name]\n",
    "\n",
    "# Drop the remote collection to start fresh\n",
    "remote_collection.drop()\n",
    "\n",
    "# Iterate through documents in the local collection and insert into remote collection\n",
    "for document in local_collection.find():\n",
    "    remote_collection.insert_one(document)"
   ]
  },
  {
   "cell_type": "code",
   "execution_count": 8,
   "metadata": {},
   "outputs": [],
   "source": [
    "# Local MongoDB instance\n",
    "local_db = mongo['divvy_db']\n",
    "local_collection_name = 'divvy_rides_by_season'\n",
    "local_collection = local_db[local_collection_name]\n",
    "\n",
    "# Remote MongoDB instance (Atlas)\n",
    "remote_client = MongoClient(connection_string)\n",
    "remote_db = remote_client['divvy_db_public']\n",
    "remote_collection_name = 'divvy_rides_by_season'\n",
    "remote_collection = remote_db[remote_collection_name]\n",
    "\n",
    "# Drop the remote collection to start fresh\n",
    "remote_collection.drop()\n",
    "\n",
    "# Iterate through documents in the local collection and insert into remote collection\n",
    "for document in local_collection.find():\n",
    "    remote_collection.insert_one(document)"
   ]
  },
  {
   "cell_type": "code",
   "execution_count": 9,
   "metadata": {},
   "outputs": [],
   "source": [
    "# Local MongoDB instance\n",
    "local_db = mongo['divvy_db']\n",
    "local_collection_name = 'divvy_rides_and_weather'\n",
    "local_collection = local_db[local_collection_name]\n",
    "\n",
    "# Remote MongoDB instance (Atlas)\n",
    "remote_client = MongoClient(connection_string)\n",
    "remote_db = remote_client['divvy_db_public']\n",
    "remote_collection_name = 'divvy_rides_and_weather'\n",
    "remote_collection = remote_db[remote_collection_name]\n",
    "\n",
    "# Drop the remote collection to start fresh\n",
    "remote_collection.drop()\n",
    "\n",
    "# Iterate through documents in the local collection and insert into remote collection\n",
    "for document in local_collection.find():\n",
    "    remote_collection.insert_one(document)"
   ]
  },
  {
   "cell_type": "code",
   "execution_count": 5,
   "metadata": {},
   "outputs": [],
   "source": [
    "# Local MongoDB instance\n",
    "local_db = mongo['divvy_db']\n",
    "local_collection_name = 'avg_rides_by_month'\n",
    "local_collection = local_db[local_collection_name]\n",
    "\n",
    "# Remote MongoDB instance (Atlas)\n",
    "remote_client = MongoClient(connection_string)\n",
    "remote_db = remote_client['divvy_db_public']\n",
    "remote_collection_name = 'avg_rides_by_month'\n",
    "remote_collection = remote_db[remote_collection_name]\n",
    "\n",
    "# Drop the remote collection to start fresh\n",
    "remote_collection.drop()\n",
    "\n",
    "# Iterate through documents in the local collection and insert into remote collection\n",
    "for document in local_collection.find():\n",
    "    remote_collection.insert_one(document)"
   ]
  }
 ],
 "metadata": {
  "kernelspec": {
   "display_name": "divvy-bikes",
   "language": "python",
   "name": "python3"
  },
  "language_info": {
   "codemirror_mode": {
    "name": "ipython",
    "version": 3
   },
   "file_extension": ".py",
   "mimetype": "text/x-python",
   "name": "python",
   "nbconvert_exporter": "python",
   "pygments_lexer": "ipython3",
   "version": "3.10.12"
  },
  "orig_nbformat": 4
 },
 "nbformat": 4,
 "nbformat_minor": 2
}
