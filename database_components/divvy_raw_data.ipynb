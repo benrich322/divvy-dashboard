{
 "cells": [
  {
   "cell_type": "markdown",
   "metadata": {},
   "source": [
    "#### Create Divvy Bike Collection:\n",
    "\n",
    "mongoimport --type csv -d divvy_db -c divvy_ride_data --headerline csv_data/divvy_rides/202201-divvy-tripdata.csv<br>\n",
    "mongoimport --type csv -d divvy_db -c divvy_ride_data --headerline csv_data/divvy_rides/202202-divvy-tripdata.csv<br>\n",
    "mongoimport --type csv -d divvy_db -c divvy_ride_data --headerline csv_data/divvy_rides/202203-divvy-tripdata.csv<br>\n",
    "mongoimport --type csv -d divvy_db -c divvy_ride_data --headerline csv_data/divvy_rides/202204-divvy-tripdata.csv<br>\n",
    "mongoimport --type csv -d divvy_db -c divvy_ride_data --headerline csv_data/divvy_rides/202205-divvy-tripdata.csv<br>\n",
    "mongoimport --type csv -d divvy_db -c divvy_ride_data --headerline csv_data/divvy_rides/202206-divvy-tripdata.csv<br>\n",
    "mongoimport --type csv -d divvy_db -c divvy_ride_data --headerline csv_data/divvy_rides/202207-divvy-tripdata.csv<br>\n",
    "mongoimport --type csv -d divvy_db -c divvy_ride_data --headerline csv_data/divvy_rides/202208-divvy-tripdata.csv<br>\n",
    "mongoimport --type csv -d divvy_db -c divvy_ride_data --headerline csv_data/divvy_rides/202209-divvy-tripdata.csv<br>\n",
    "mongoimport --type csv -d divvy_db -c divvy_ride_data --headerline csv_data/divvy_rides/202210-divvy-tripdata.csv<br>\n",
    "mongoimport --type csv -d divvy_db -c divvy_ride_data --headerline csv_data/divvy_rides/202211-divvy-tripdata.csv<br>\n",
    "mongoimport --type csv -d divvy_db -c divvy_ride_data --headerline csv_data/divvy_rides/202212-divvy-tripdata.csv<br>"
   ]
  },
  {
   "cell_type": "code",
   "execution_count": 2,
   "metadata": {},
   "outputs": [],
   "source": [
    "from pymongo import MongoClient"
   ]
  },
  {
   "cell_type": "code",
   "execution_count": 3,
   "metadata": {},
   "outputs": [
    {
     "name": "stdout",
     "output_type": "stream",
     "text": [
      "Collection Name: divvy_ride_data\n",
      "Count of Documents: 5667717\n"
     ]
    }
   ],
   "source": [
    "# Create an instance of MongoClient and specify the database name\n",
    "mongo = MongoClient(port=27017)\n",
    "db = mongo.divvy_db\n",
    "\n",
    "# Specify the name of the collection you want to work with\n",
    "collection_name = \"divvy_ride_data\"\n",
    "\n",
    "# Access the collection directly\n",
    "collection = db[collection_name]\n",
    "\n",
    "# Count the number of documents in the collection\n",
    "document_count = collection.count_documents({})\n",
    "\n",
    "# Print the collection name and the document count\n",
    "print(f\"Collection Name: {collection_name}\")\n",
    "print(f\"Count of Documents: {document_count}\")"
   ]
  }
 ],
 "metadata": {
  "kernelspec": {
   "display_name": "divvy-bikes",
   "language": "python",
   "name": "python3"
  },
  "language_info": {
   "codemirror_mode": {
    "name": "ipython",
    "version": 3
   },
   "file_extension": ".py",
   "mimetype": "text/x-python",
   "name": "python",
   "nbconvert_exporter": "python",
   "pygments_lexer": "ipython3",
   "version": "3.10.12"
  },
  "orig_nbformat": 4
 },
 "nbformat": 4,
 "nbformat_minor": 2
}
