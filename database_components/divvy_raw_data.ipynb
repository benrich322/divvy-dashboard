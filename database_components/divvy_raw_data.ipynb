{
 "cells": [
  {
   "cell_type": "markdown",
   "metadata": {},
   "source": [
    "#### Create Divvy Bike Collection:\n",
    "\n",
    "mongoimport --type csv -d divvy_db -c divvy_ride_data --headerline csv_data/divvy_rides/202201-divvy-tripdata.csv<br>\n",
    "mongoimport --type csv -d divvy_db -c divvy_ride_data --headerline csv_data/divvy_rides/202202-divvy-tripdata.csv<br>\n",
    "mongoimport --type csv -d divvy_db -c divvy_ride_data --headerline csv_data/divvy_rides/202203-divvy-tripdata.csv<br>\n",
    "mongoimport --type csv -d divvy_db -c divvy_ride_data --headerline csv_data/divvy_rides/202204-divvy-tripdata.csv<br>\n",
    "mongoimport --type csv -d divvy_db -c divvy_ride_data --headerline csv_data/divvy_rides/202205-divvy-tripdata.csv<br>\n",
    "mongoimport --type csv -d divvy_db -c divvy_ride_data --headerline csv_data/divvy_rides/202206-divvy-tripdata.csv<br>\n",
    "mongoimport --type csv -d divvy_db -c divvy_ride_data --headerline csv_data/divvy_rides/202207-divvy-tripdata.csv<br>\n",
    "mongoimport --type csv -d divvy_db -c divvy_ride_data --headerline csv_data/divvy_rides/202208-divvy-tripdata.csv<br>\n",
    "mongoimport --type csv -d divvy_db -c divvy_ride_data --headerline csv_data/divvy_rides/202209-divvy-tripdata.csv<br>\n",
    "mongoimport --type csv -d divvy_db -c divvy_ride_data --headerline csv_data/divvy_rides/202210-divvy-tripdata.csv<br>\n",
    "mongoimport --type csv -d divvy_db -c divvy_ride_data --headerline csv_data/divvy_rides/202211-divvy-tripdata.csv<br>\n",
    "mongoimport --type csv -d divvy_db -c divvy_ride_data --headerline csv_data/divvy_rides/202212-divvy-tripdata.csv<br>"
   ]
  },
  {
   "cell_type": "markdown",
   "metadata": {},
   "source": [
    "#### Create Divvy Bike Collection:\n",
    "\n",
    "mongoimport --type csv -d divvy_db -c divvy_ride_data_sample --headerline csv_data/divvy_rides/202201-divvy-tripdata.csv<br>"
   ]
  },
  {
   "cell_type": "code",
   "execution_count": 15,
   "metadata": {},
   "outputs": [],
   "source": [
    "import pymongo\n",
    "from pymongo import MongoClient\n",
    "from pprint import pprint\n",
    "from multiprocessing import Pool"
   ]
  },
  {
   "cell_type": "code",
   "execution_count": 16,
   "metadata": {},
   "outputs": [
    {
     "name": "stdout",
     "output_type": "stream",
     "text": [
      "Collection Name: divvy_ride_data\n",
      "Count of Documents: 5667717\n"
     ]
    }
   ],
   "source": [
    "# Create an instance of MongoClient and specify the database name\n",
    "mongo = MongoClient(port=27017)\n",
    "db = mongo.divvy_db\n",
    "\n",
    "# Specify the name of the collection you want to work with\n",
    "collection_name = 'divvy_ride_data'\n",
    "\n",
    "# Access the collection directly\n",
    "divvy_rides = db['divvy_ride_data']\n",
    "\n",
    "# Count the number of documents in the collection\n",
    "document_count = divvy_rides.count_documents({})\n",
    "\n",
    "# Print the collection name and the document count\n",
    "print(f\"Collection Name: {collection_name}\")\n",
    "print(f\"Count of Documents: {document_count}\")"
   ]
  },
  {
   "cell_type": "code",
   "execution_count": 11,
   "metadata": {},
   "outputs": [
    {
     "data": {
      "text/plain": [
       "<pymongo.results.BulkWriteResult at 0x28a91d680>"
      ]
     },
     "execution_count": 11,
     "metadata": {},
     "output_type": "execute_result"
    }
   ],
   "source": [
    "fields_to_update = [\"started_at\", \"ended_at\"]\n",
    "\n",
    "bulk_updates = []\n",
    "\n",
    "for field in fields_to_update:\n",
    "    for document in divvy_rides.find({field: {\"$exists\": True}}):\n",
    "        parts = document[field].split(\" \")\n",
    "        date_part = parts[0]\n",
    "        time_part = parts[1]\n",
    "\n",
    "        update = {\n",
    "            \"$set\": {\n",
    "                f\"{field}_date\": date_part,\n",
    "                f\"{field}_time\": time_part\n",
    "            }\n",
    "        }\n",
    "\n",
    "        bulk_updates.append(\n",
    "            pymongo.UpdateOne(\n",
    "                {\"_id\": document[\"_id\"]},\n",
    "                update\n",
    "            )\n",
    "        )\n",
    "\n",
    "# Execute bulk write operations\n",
    "divvy_rides.bulk_write(bulk_updates)"
   ]
  },
  {
   "cell_type": "code",
   "execution_count": 17,
   "metadata": {},
   "outputs": [
    {
     "name": "stdout",
     "output_type": "stream",
     "text": [
      "{'_id': ObjectId('650f7a7291cca7bfdb2c89da'),\n",
      " 'end_lat': 42.01256011541,\n",
      " 'end_lng': -87.6743671152,\n",
      " 'end_station_id': 'RP-007',\n",
      " 'end_station_name': 'Clark St & Touhy Ave',\n",
      " 'ended_at': '2022-01-10 08:46:17',\n",
      " 'ended_at_date': '2022-01-10',\n",
      " 'ended_at_time': '08:46:17',\n",
      " 'member_casual': 'casual',\n",
      " 'ride_id': 'A6CF8980A652D272',\n",
      " 'rideable_type': 'electric_bike',\n",
      " 'start_lat': 42.012763,\n",
      " 'start_lng': -87.6659675,\n",
      " 'start_station_id': 525,\n",
      " 'start_station_name': 'Glenwood Ave & Touhy Ave',\n",
      " 'started_at': '2022-01-10 08:41:56',\n",
      " 'started_at_date': '2022-01-10',\n",
      " 'started_at_time': '08:41:56'}\n"
     ]
    }
   ],
   "source": [
    "document = divvy_rides.find_one()\n",
    "pprint(document)"
   ]
  }
 ],
 "metadata": {
  "kernelspec": {
   "display_name": "divvy-bikes",
   "language": "python",
   "name": "python3"
  },
  "language_info": {
   "codemirror_mode": {
    "name": "ipython",
    "version": 3
   },
   "file_extension": ".py",
   "mimetype": "text/x-python",
   "name": "python",
   "nbconvert_exporter": "python",
   "pygments_lexer": "ipython3",
   "version": "3.10.12"
  },
  "orig_nbformat": 4
 },
 "nbformat": 4,
 "nbformat_minor": 2
}
