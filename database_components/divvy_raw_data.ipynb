{
 "cells": [
  {
   "cell_type": "markdown",
   "metadata": {},
   "source": [
    "#### Import Divvy Bike Data:\n",
    "\n",
    "mongoimport --type csv -d divvy_db -c divvy_ride_data --headerline csv_data/divvy_rides/202201-divvy-tripdata.csv<br>\n",
    "mongoimport --type csv -d divvy_db -c divvy_ride_data --headerline csv_data/divvy_rides/202202-divvy-tripdata.csv<br>\n",
    "mongoimport --type csv -d divvy_db -c divvy_ride_data --headerline csv_data/divvy_rides/202203-divvy-tripdata.csv<br>\n",
    "mongoimport --type csv -d divvy_db -c divvy_ride_data --headerline csv_data/divvy_rides/202204-divvy-tripdata.csv<br>\n",
    "mongoimport --type csv -d divvy_db -c divvy_ride_data --headerline csv_data/divvy_rides/202205-divvy-tripdata.csv<br>\n",
    "mongoimport --type csv -d divvy_db -c divvy_ride_data --headerline csv_data/divvy_rides/202206-divvy-tripdata.csv<br>\n",
    "mongoimport --type csv -d divvy_db -c divvy_ride_data --headerline csv_data/divvy_rides/202207-divvy-tripdata.csv<br>\n",
    "mongoimport --type csv -d divvy_db -c divvy_ride_data --headerline csv_data/divvy_rides/202208-divvy-tripdata.csv<br>\n",
    "mongoimport --type csv -d divvy_db -c divvy_ride_data --headerline csv_data/divvy_rides/202209-divvy-tripdata.csv<br>\n",
    "mongoimport --type csv -d divvy_db -c divvy_ride_data --headerline csv_data/divvy_rides/202210-divvy-tripdata.csv<br>\n",
    "mongoimport --type csv -d divvy_db -c divvy_ride_data --headerline csv_data/divvy_rides/202211-divvy-tripdata.csv<br>\n",
    "mongoimport --type csv -d divvy_db -c divvy_ride_data --headerline csv_data/divvy_rides/202212-divvy-tripdata.csv<br>"
   ]
  },
  {
   "cell_type": "code",
   "execution_count": 1,
   "metadata": {},
   "outputs": [],
   "source": [
    "import pymongo\n",
    "from pymongo import MongoClient, UpdateOne\n",
    "import json"
   ]
  },
  {
   "cell_type": "code",
   "execution_count": 2,
   "metadata": {},
   "outputs": [
    {
     "name": "stdout",
     "output_type": "stream",
     "text": [
      "Mongo Database Name: divvy_db\n",
      "Mongo Collection Names: ['divvy_ride_data']\n"
     ]
    }
   ],
   "source": [
    "# Create an instance of MongoClient\n",
    "mongo = MongoClient(port=27017)\n",
    "\n",
    "# Assign the database variable\n",
    "db = mongo.divvy_db\n",
    "\n",
    "# Assign the colloections variable\n",
    "divvy_rides = db['divvy_ridedata']\n",
    "\n",
    "print(f'Mongo Database Name: {db.name}')\n",
    "print(f'Mongo Collection Names: {db.list_collection_names()}')"
   ]
  },
  {
   "cell_type": "code",
   "execution_count": 3,
   "metadata": {},
   "outputs": [
    {
     "name": "stdout",
     "output_type": "stream",
     "text": [
      "Collection: divvy_ride_data, Document Count: 5667717\n"
     ]
    }
   ],
   "source": [
    "# Show all the collections with docoment count\n",
    "collection_names = db.list_collection_names()\n",
    "\n",
    "for collection_name in collection_names:\n",
    "    collection = db[collection_name]\n",
    "    document_count = collection.count_documents({})\n",
    "    print(f'Collection: {collection_name}, Document Count: {document_count}')"
   ]
  },
  {
   "cell_type": "code",
   "execution_count": null,
   "metadata": {},
   "outputs": [],
   "source": []
  }
 ],
 "metadata": {
  "kernelspec": {
   "display_name": "divvy-bikes",
   "language": "python",
   "name": "python3"
  },
  "language_info": {
   "codemirror_mode": {
    "name": "ipython",
    "version": 3
   },
   "file_extension": ".py",
   "mimetype": "text/x-python",
   "name": "python",
   "nbconvert_exporter": "python",
   "pygments_lexer": "ipython3",
   "version": "3.10.12"
  },
  "orig_nbformat": 4
 },
 "nbformat": 4,
 "nbformat_minor": 2
}
