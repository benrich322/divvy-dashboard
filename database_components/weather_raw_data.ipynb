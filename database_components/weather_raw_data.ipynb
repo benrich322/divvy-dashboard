{
 "cells": [
  {
   "cell_type": "markdown",
   "metadata": {},
   "source": [
    "## Weather Raw Data\n",
    "\n",
    "Created the weather_daily collection. This collection includes a daily summary of the weather in Chicago in 2022\n",
    "\n",
    "#### Steps Taken\n",
    "\n",
    "1. Used the Open Weather api for the daily weather summary\n",
    "    - https://openweathermap.org/api/one-call-3#history_daily_aggregation\n",
    "2. Defined the location and date range of the weather data needed\n",
    "    - Location = Chicago\n",
    "    - Date Range = 2022\n",
    "3. Used a for loop to retrieve Open Weather data for all dates in the date list\n",
    "4. Created a dictionary named weather_dict with the weather data\n",
    "5. Created a dataframe of the weather_dict\n",
    "    - Convert precipitation from mm to in\n",
    "    - Create the new boolean precipitation column\n",
    "6. Export our weather dataframe to a csv file\n",
    "7. Used mongoimport to create the weather data collection"
   ]
  },
  {
   "cell_type": "code",
   "execution_count": 73,
   "metadata": {},
   "outputs": [],
   "source": [
    "import pandas as pd\n",
    "import json\n",
    "import requests\n",
    "from datetime import date, timedelta, datetime\n",
    "from config import api_key\n",
    "from pymongo import MongoClient"
   ]
  },
  {
   "cell_type": "code",
   "execution_count": 4,
   "metadata": {},
   "outputs": [],
   "source": [
    "# Open weather api for daily aggregation\n",
    "# https://openweathermap.org/api/one-call-3#history_daily_aggregation\n",
    "\n",
    "url = \"https://api.openweathermap.org/data/3.0/onecall/day_summary?\"\n",
    "\n",
    "# Coordinates for Chicago\n",
    "lat = 41.881832\n",
    "lon = -87.623177\n",
    "\n",
    "# Temperature will be in degrees Fahrenheit (°F)\n",
    "units = \"imperial\""
   ]
  },
  {
   "cell_type": "code",
   "execution_count": 5,
   "metadata": {},
   "outputs": [
    {
     "name": "stdout",
     "output_type": "stream",
     "text": [
      "['2022-01-01', '2022-01-02', '2022-01-03', '2022-01-04', '2022-01-05']\n"
     ]
    }
   ],
   "source": [
    "# Define start and end dates\n",
    "# Create a list of dates, starting from the start date and ending at or before the end_date\n",
    "\n",
    "start_date = date(2022, 1, 1)\n",
    "end_date = date(2022, 12, 31)\n",
    "\n",
    "date_list = []\n",
    "\n",
    "while start_date <= end_date:\n",
    "    date_list.append(start_date.strftime('%Y-%m-%d'))\n",
    "    start_date+=timedelta(days=1)\n",
    "\n",
    "# Print some values from the list\n",
    "preview_size = 5\n",
    "preview = date_list[:preview_size]\n",
    "print(preview)"
   ]
  },
  {
   "cell_type": "code",
   "execution_count": 8,
   "metadata": {},
   "outputs": [],
   "source": [
    "#Create a for loop to retrieve OpenWeather data for all dates in the date list\n",
    "\n",
    "#Set up response info lists\n",
    "cloud_cover = []\n",
    "precipitation = []\n",
    "min_temp = []\n",
    "max_temp = []\n",
    "temp_mrng = []\n",
    "temp_aft = []\n",
    "temp_eve = []\n",
    "temp_night = []\n",
    "wind_max = []\n",
    "\n",
    "# Loop through all the cities in our list to fetch weather data\n",
    "for day in date_list:\n",
    "        \n",
    "# Create endpoint URL with each day\n",
    "    query_url = f\"{url}&lat={lat}&lon={lon}&units={units}&date={day}&appid={api_key}&q=\"\n",
    "\n",
    "    response = requests.get(query_url).json()\n",
    "    cloud_cover.append(response['cloud_cover']['afternoon'])\n",
    "    precipitation.append(response['precipitation']['total'])\n",
    "    min_temp.append(response['temperature']['min'])\n",
    "    max_temp.append(response['temperature']['max'])\n",
    "    temp_mrng.append(response['temperature']['morning'])\n",
    "    temp_aft.append(response['temperature']['afternoon'])\n",
    "    temp_eve.append(response['temperature']['evening'])\n",
    "    temp_night.append(response['temperature']['night'])\n",
    "    wind_max.append(response['wind']['max']['speed'])"
   ]
  },
  {
   "cell_type": "code",
   "execution_count": 9,
   "metadata": {},
   "outputs": [
    {
     "name": "stdout",
     "output_type": "stream",
     "text": [
      "date: 2022-01-01\n",
      "cloud_cover: 90.0\n",
      "precipitation: 0.18\n",
      "min_temp: 33.22\n",
      "max_temp: 42.1\n",
      "morning_temp: 42.1\n",
      "afternoon_temp: 38.43\n",
      "evening_temp: 35.24\n",
      "night_temp: 38.44\n",
      "max_windspeed: 15.01\n"
     ]
    }
   ],
   "source": [
    "weather_dict = {\n",
    "    \"date\": date_list,\n",
    "    \"cloud_cover\": cloud_cover,\n",
    "    \"precipitation\": precipitation,\n",
    "    \"min_temp\": min_temp,\n",
    "    \"max_temp\": max_temp,\n",
    "    \"morning_temp\": temp_mrng,\n",
    "    \"afternoon_temp\": temp_aft,\n",
    "    \"evening_temp\": temp_eve,\n",
    "    \"night_temp\": temp_night,\n",
    "    \"max_windspeed\": wind_max\n",
    "}\n",
    "\n",
    "# Iterate through the dictionary items and print the key and first value\n",
    "for key, value in weather_dict.items():\n",
    "    if len(value) > 0:\n",
    "        print(f\"{key}: {value[0]}\")\n",
    "    else:\n",
    "        print(f\"{key}: No data available\")"
   ]
  },
  {
   "cell_type": "code",
   "execution_count": 58,
   "metadata": {},
   "outputs": [],
   "source": [
    "# Convert precipitation from mm to in\n",
    "weather_df = pd.DataFrame(weather_dict)\n",
    "\n",
    "# Define the conversion factor\n",
    "mm_to_in = 0.0393701\n",
    "\n",
    "# Convert the \"precipitation\" column from mm to in\n",
    "weather_df[\"precipitation\"] = weather_df[\"precipitation\"] * mm_to_in\n",
    "\n",
    "# Define the threshold value for significant precipitation comparison \n",
    "# Source: WeatherShack Rain Measurement\n",
    "# https://www.weathershack.com/static/ed-rain-measurement.html\n",
    "threshold = 0.1\n",
    "\n",
    "# Create the new boolean precipitation column\n",
    "weather_df['significant_precipitation'] = weather_df['precipitation'] > threshold"
   ]
  },
  {
   "cell_type": "code",
   "execution_count": 62,
   "metadata": {},
   "outputs": [],
   "source": [
    "# Export our weather dataframe to a csv file\n",
    "weather_df.to_csv(\"csv_data/weather/weather_daily.csv\", index=False, header=True)"
   ]
  },
  {
   "cell_type": "code",
   "execution_count": 63,
   "metadata": {},
   "outputs": [
    {
     "data": {
      "text/html": [
       "<div>\n",
       "<style scoped>\n",
       "    .dataframe tbody tr th:only-of-type {\n",
       "        vertical-align: middle;\n",
       "    }\n",
       "\n",
       "    .dataframe tbody tr th {\n",
       "        vertical-align: top;\n",
       "    }\n",
       "\n",
       "    .dataframe thead th {\n",
       "        text-align: right;\n",
       "    }\n",
       "</style>\n",
       "<table border=\"1\" class=\"dataframe\">\n",
       "  <thead>\n",
       "    <tr style=\"text-align: right;\">\n",
       "      <th></th>\n",
       "      <th>date</th>\n",
       "      <th>cloud_cover</th>\n",
       "      <th>precipitation</th>\n",
       "      <th>min_temp</th>\n",
       "      <th>max_temp</th>\n",
       "      <th>morning_temp</th>\n",
       "      <th>afternoon_temp</th>\n",
       "      <th>evening_temp</th>\n",
       "      <th>night_temp</th>\n",
       "      <th>max_windspeed</th>\n",
       "      <th>significant_precipitation</th>\n",
       "    </tr>\n",
       "  </thead>\n",
       "  <tbody>\n",
       "    <tr>\n",
       "      <th>0</th>\n",
       "      <td>2022-01-01</td>\n",
       "      <td>90.0</td>\n",
       "      <td>0.007087</td>\n",
       "      <td>33.22</td>\n",
       "      <td>42.10</td>\n",
       "      <td>42.10</td>\n",
       "      <td>38.43</td>\n",
       "      <td>35.24</td>\n",
       "      <td>38.44</td>\n",
       "      <td>15.01</td>\n",
       "      <td>False</td>\n",
       "    </tr>\n",
       "    <tr>\n",
       "      <th>1</th>\n",
       "      <td>2022-01-02</td>\n",
       "      <td>90.0</td>\n",
       "      <td>0.543701</td>\n",
       "      <td>18.81</td>\n",
       "      <td>32.77</td>\n",
       "      <td>28.24</td>\n",
       "      <td>26.64</td>\n",
       "      <td>19.63</td>\n",
       "      <td>32.77</td>\n",
       "      <td>18.41</td>\n",
       "      <td>True</td>\n",
       "    </tr>\n",
       "    <tr>\n",
       "      <th>2</th>\n",
       "      <td>2022-01-03</td>\n",
       "      <td>16.0</td>\n",
       "      <td>0.000000</td>\n",
       "      <td>6.58</td>\n",
       "      <td>26.37</td>\n",
       "      <td>21.76</td>\n",
       "      <td>12.25</td>\n",
       "      <td>7.21</td>\n",
       "      <td>24.21</td>\n",
       "      <td>8.99</td>\n",
       "      <td>False</td>\n",
       "    </tr>\n",
       "    <tr>\n",
       "      <th>3</th>\n",
       "      <td>2022-01-04</td>\n",
       "      <td>4.0</td>\n",
       "      <td>0.000000</td>\n",
       "      <td>18.03</td>\n",
       "      <td>30.36</td>\n",
       "      <td>18.03</td>\n",
       "      <td>20.97</td>\n",
       "      <td>21.29</td>\n",
       "      <td>19.26</td>\n",
       "      <td>10.00</td>\n",
       "      <td>False</td>\n",
       "    </tr>\n",
       "    <tr>\n",
       "      <th>4</th>\n",
       "      <td>2022-01-05</td>\n",
       "      <td>64.0</td>\n",
       "      <td>0.009843</td>\n",
       "      <td>13.57</td>\n",
       "      <td>33.39</td>\n",
       "      <td>31.53</td>\n",
       "      <td>32.74</td>\n",
       "      <td>22.19</td>\n",
       "      <td>31.64</td>\n",
       "      <td>17.00</td>\n",
       "      <td>False</td>\n",
       "    </tr>\n",
       "  </tbody>\n",
       "</table>\n",
       "</div>"
      ],
      "text/plain": [
       "         date  cloud_cover  precipitation  min_temp  max_temp  morning_temp  \\\n",
       "0  2022-01-01         90.0       0.007087     33.22     42.10         42.10   \n",
       "1  2022-01-02         90.0       0.543701     18.81     32.77         28.24   \n",
       "2  2022-01-03         16.0       0.000000      6.58     26.37         21.76   \n",
       "3  2022-01-04          4.0       0.000000     18.03     30.36         18.03   \n",
       "4  2022-01-05         64.0       0.009843     13.57     33.39         31.53   \n",
       "\n",
       "   afternoon_temp  evening_temp  night_temp  max_windspeed  \\\n",
       "0           38.43         35.24       38.44          15.01   \n",
       "1           26.64         19.63       32.77          18.41   \n",
       "2           12.25          7.21       24.21           8.99   \n",
       "3           20.97         21.29       19.26          10.00   \n",
       "4           32.74         22.19       31.64          17.00   \n",
       "\n",
       "   significant_precipitation  \n",
       "0                      False  \n",
       "1                       True  \n",
       "2                      False  \n",
       "3                      False  \n",
       "4                      False  "
      ]
     },
     "execution_count": 63,
     "metadata": {},
     "output_type": "execute_result"
    }
   ],
   "source": [
    "csv_file_path = 'csv_data/weather/weather_daily.csv'\n",
    "weather_df = pd.read_csv(csv_file_path)\n",
    "weather_df.head()"
   ]
  },
  {
   "cell_type": "markdown",
   "metadata": {},
   "source": [
    "#### Create Weather Data Collection:\n",
    "mongoimport --type csv -d divvy_db -c weather_daily --headerline csv_data/weather/weather_daily.csv"
   ]
  },
  {
   "cell_type": "code",
   "execution_count": 82,
   "metadata": {},
   "outputs": [
    {
     "name": "stdout",
     "output_type": "stream",
     "text": [
      "Collection Name: weather_daily\n",
      "Count of Documents: 365\n"
     ]
    }
   ],
   "source": [
    "# Create an instance of MongoClient and specify the database name\n",
    "mongo = MongoClient(port=27017)\n",
    "db = mongo.divvy_db\n",
    "\n",
    "# Specify the name of the collection you want to work with\n",
    "collection = db[collection_name]\n",
    "\n",
    "# Access the collection directly\n",
    "collection = db[collection_name]\n",
    "\n",
    "# Count the number of documents in the collection\n",
    "document_count = collection.count_documents({})\n",
    "\n",
    "# Print the collection name and the document count\n",
    "print(f\"Collection Name: {collection_name}\")\n",
    "print(f\"Count of Documents: {document_count}\")"
   ]
  }
 ],
 "metadata": {
  "kernelspec": {
   "display_name": "divvy-bikes",
   "language": "python",
   "name": "python3"
  },
  "language_info": {
   "codemirror_mode": {
    "name": "ipython",
    "version": 3
   },
   "file_extension": ".py",
   "mimetype": "text/x-python",
   "name": "python",
   "nbconvert_exporter": "python",
   "pygments_lexer": "ipython3",
   "version": "3.10.12"
  },
  "orig_nbformat": 4
 },
 "nbformat": 4,
 "nbformat_minor": 2
}
