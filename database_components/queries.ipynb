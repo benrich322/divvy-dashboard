{
 "cells": [
  {
   "cell_type": "code",
   "execution_count": 2,
   "metadata": {},
   "outputs": [],
   "source": [
    "import pymongo\n",
    "from pymongo import MongoClient\n",
    "from pprint import pprint"
   ]
  },
  {
   "cell_type": "code",
   "execution_count": 3,
   "metadata": {},
   "outputs": [],
   "source": [
    "# Connect to my local MongoDB database\n",
    "mongo = MongoClient(port=27017)\n",
    "divvy_db = mongo.divvy_db "
   ]
  },
  {
   "cell_type": "code",
   "execution_count": 5,
   "metadata": {},
   "outputs": [
    {
     "name": "stdout",
     "output_type": "stream",
     "text": [
      "Aggregation result has been written to the new collection.\n"
     ]
    }
   ],
   "source": [
    "divvy_ride_data = divvy_db[\"divvy_ride_data\"]\n",
    "\n",
    "# Define the aggregation pipeline\n",
    "pipeline = [\n",
    "    {\n",
    "        \"$group\": {\n",
    "            \"_id\": {\n",
    "                \"year\": {\"$year\": {\"$toDate\": \"$started_at\"}},\n",
    "                \"month\": {\"$month\": {\"$toDate\": \"$started_at\"}}\n",
    "            },\n",
    "            \"total_rides\": {\"$sum\": 1}\n",
    "        }\n",
    "    },\n",
    "    {\n",
    "        \"$project\": {\n",
    "            \"_id\": 0,\n",
    "            \"year\": \"$_id.year\",\n",
    "            \"month\": \"$_id.month\",\n",
    "            \"total_rides\": 1\n",
    "        }\n",
    "    },\n",
    "    {\n",
    "        \"$sort\": {\"year\": 1, \"month\": 1}\n",
    "    }\n",
    "]\n",
    "\n",
    "# Execute the aggregation pipeline and write to a new collection\n",
    "divvy_rides_by_month = divvy_db[\"divvy_rides_by_month\"]\n",
    "divvy_rides_by_month.drop()  # Drop the collection\n",
    "aggregated_result = divvy_ride_data.aggregate(pipeline, allowDiskUse=True, collation=None)\n",
    "\n",
    "for doc in aggregated_result:\n",
    "    divvy_rides_by_month.insert_one(doc)\n",
    "\n",
    "print(\"Aggregation result has been written to the new collection.\")"
   ]
  }
 ],
 "metadata": {
  "kernelspec": {
   "display_name": "divvy-bikes",
   "language": "python",
   "name": "python3"
  },
  "language_info": {
   "codemirror_mode": {
    "name": "ipython",
    "version": 3
   },
   "file_extension": ".py",
   "mimetype": "text/x-python",
   "name": "python",
   "nbconvert_exporter": "python",
   "pygments_lexer": "ipython3",
   "version": "3.10.12"
  },
  "orig_nbformat": 4
 },
 "nbformat": 4,
 "nbformat_minor": 2
}
