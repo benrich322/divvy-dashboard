{
 "cells": [
  {
   "cell_type": "code",
   "execution_count": 31,
   "metadata": {},
   "outputs": [],
   "source": [
    "import pymongo\n",
    "from pymongo import MongoClient\n",
    "from pprint import pprint"
   ]
  },
  {
   "cell_type": "code",
   "execution_count": 32,
   "metadata": {},
   "outputs": [],
   "source": [
    "# Connect to my local MongoDB database\n",
    "mongo = MongoClient(port=27017)\n",
    "divvy_db = mongo.divvy_db "
   ]
  },
  {
   "cell_type": "code",
   "execution_count": 33,
   "metadata": {},
   "outputs": [
    {
     "name": "stdout",
     "output_type": "stream",
     "text": [
      "Aggregation result has been written to the new collection.\n"
     ]
    }
   ],
   "source": [
    "divvy_ride_data = divvy_db[\"divvy_ride_data\"]\n",
    "\n",
    "# Define the aggregation pipeline\n",
    "# Define the aggregation pipeline\n",
    "pipeline = [\n",
    "    {\n",
    "        \"$group\": {\n",
    "            \"_id\": {\n",
    "                \"year\": {\"$year\": {\"$toDate\": \"$started_at\"}},\n",
    "                \"month\": {\"$month\": {\"$toDate\": \"$started_at\"}}\n",
    "            },\n",
    "            \"total_rides\": {\"$sum\": 1}\n",
    "        }\n",
    "    },\n",
    "    {\n",
    "        \"$project\": {\n",
    "            \"year\": \"$_id.year\",\n",
    "            \"month\": \"$_id.month\",\n",
    "            \"total_rides\": 1\n",
    "        }\n",
    "    },\n",
    "    {\n",
    "        \"$project\": {\n",
    "            \"_id\": {\n",
    "                \"$toString\": {\n",
    "                    \"$concat\": [\n",
    "                        {\"$toString\": \"$year\"},\n",
    "                        {\"$toString\": \"$month\"}\n",
    "                    ]\n",
    "                }\n",
    "            },\n",
    "            \"year\": 1,\n",
    "            \"month\": 1,\n",
    "            \"total_rides\": 1\n",
    "        }\n",
    "    },\n",
    "    {\n",
    "        \"$sort\": {\"year\": 1, \"month\": 1}\n",
    "    }\n",
    "]\n",
    "\n",
    "# Execute the aggregation pipeline and write to a new collection\n",
    "divvy_rides_by_month = divvy_db[\"divvy_rides_by_month\"]\n",
    "divvy_rides_by_month.drop()  # Drop the collection\n",
    "aggregated_result = divvy_ride_data.aggregate(pipeline, allowDiskUse=True, collation=None)\n",
    "\n",
    "for doc in aggregated_result:\n",
    "    divvy_rides_by_month.insert_one(doc)\n",
    "\n",
    "print(\"Aggregation result has been written to the new collection.\")"
   ]
  },
  {
   "cell_type": "code",
   "execution_count": 34,
   "metadata": {},
   "outputs": [
    {
     "name": "stdout",
     "output_type": "stream",
     "text": [
      "Aggregation by season result has been written to the new collection.\n"
     ]
    }
   ],
   "source": [
    "divvy_rides_by_month = divvy_db[\"divvy_rides_by_month\"]\n",
    "\n",
    "# Define the aggregation pipeline\n",
    "pipeline = [\n",
    "    {\n",
    "        \"$group\": {\n",
    "            \"_id\": {\n",
    "                \"year\": \"$year\",\n",
    "                \"season\": {\n",
    "                    \"$switch\": {\n",
    "                        \"branches\": [\n",
    "                            {\"case\": {\"$in\": [\"$month\", [3, 4, 5]]}, \"then\": \"Spring\"},\n",
    "                            {\"case\": {\"$in\": [\"$month\", [6, 7, 8]]}, \"then\": \"Summer\"},\n",
    "                            {\"case\": {\"$in\": [\"$month\", [9, 10, 11]]}, \"then\": \"Autumn\"},\n",
    "                            {\"case\": {\"$in\": [\"$month\", [12, 1, 2]]}, \"then\": \"Winter\"}\n",
    "                        ],\n",
    "                        \"default\": \"Unknown\"\n",
    "                    }\n",
    "                }\n",
    "            },\n",
    "            \"total_rides\": {\"$sum\": \"$total_rides\"}\n",
    "        }\n",
    "    },\n",
    "    {\n",
    "        \"$sort\": {\"_id.year\": 1, \"_id.season\": 1}\n",
    "    }\n",
    "]\n",
    "\n",
    "# Execute the aggregation pipeline\n",
    "divvy_rides_by_season = divvy_db[\"divvy_rides_by_season\"]\n",
    "divvy_rides_by_season.drop()  # Drop the collection\n",
    "aggregated_result = list(divvy_rides_by_month.aggregate(pipeline, allowDiskUse=True, collation=None))\n",
    "\n",
    "# Insert the aggregated documents into the new collection\n",
    "for doc in aggregated_result:\n",
    "    divvy_rides_by_season.insert_one(doc)\n",
    "\n",
    "print(\"Aggregation by season result has been written to the new collection.\")"
   ]
  },
  {
   "cell_type": "code",
   "execution_count": 35,
   "metadata": {},
   "outputs": [
    {
     "name": "stdout",
     "output_type": "stream",
     "text": [
      "Aggregation result has been written to the new collection.\n"
     ]
    }
   ],
   "source": [
    "divvy_ride_data = divvy_db[\"divvy_ride_data\"]\n",
    "\n",
    "# Define the aggregation pipeline\n",
    "pipeline = [\n",
    "    {\n",
    "        \"$group\": {\n",
    "            \"_id\": {\n",
    "                \"date\": \"$started_at_date\",  # Group by the date\n",
    "            },\n",
    "            \"total_rides\": {\"$sum\": 1}  # Calculate the total rides for each date\n",
    "        }\n",
    "    },\n",
    "    {\n",
    "        \"$project\": {\n",
    "            \"date\": \"$_id.date\",\n",
    "            \"total_rides\": 1  # Include the total_rides field\n",
    "        }\n",
    "    },\n",
    "    {\n",
    "        \"$project\": {\n",
    "            \"_id\": {\n",
    "                \"$toString\": \"$date\"  # Convert the date to a string\n",
    "            },\n",
    "            \"date\": 1,\n",
    "            \"total_rides\": 1\n",
    "        }\n",
    "    },\n",
    "    {\n",
    "        \"$sort\": {\n",
    "            \"date\": 1  # Sort by date in ascending order\n",
    "        }\n",
    "    }\n",
    "]\n",
    "\n",
    "# Execute the aggregation pipeline and write to a new collection\n",
    "divvy_rides_by_day = divvy_db[\"divvy_rides_by_day\"]\n",
    "divvy_rides_by_day.drop()  # Drop the collection if it exists\n",
    "aggregated_result = divvy_ride_data.aggregate(pipeline, allowDiskUse=True, collation=None)\n",
    "\n",
    "for doc in aggregated_result:\n",
    "    divvy_rides_by_day.insert_one(doc)\n",
    "\n",
    "print(\"Aggregation result has been written to the new collection.\")\n"
   ]
  },
  {
   "cell_type": "code",
   "execution_count": 36,
   "metadata": {},
   "outputs": [
    {
     "name": "stdout",
     "output_type": "stream",
     "text": [
      "Merged data has been created in the 'divvy_rides_and_weather' collection.\n"
     ]
    }
   ],
   "source": [
    "divvy_rides_by_day = divvy_db[\"divvy_rides_by_day\"]\n",
    "weather_daily = divvy_db[\"weather_daily\"]\n",
    "\n",
    "pipeline = [\n",
    "    {\n",
    "        \"$lookup\": {\n",
    "            \"from\": \"weather_daily\",\n",
    "            \"localField\": \"date\",\n",
    "            \"foreignField\": \"date\",\n",
    "            \"as\": \"weather\"\n",
    "        }\n",
    "    },\n",
    "    {\n",
    "        \"$unwind\": \"$weather\"  # Unwind the \"weather\" array created by the $lookup\n",
    "    },\n",
    "    {\n",
    "        \"$project\": {\n",
    "            \"date\": {\"$toString\": \"$date\"},  # Convert the date to a string\n",
    "            \"total_rides\": 1,\n",
    "            \"cloud_cover\": \"$weather.cloud_cover\",\n",
    "            \"precipitation\": \"$weather.precipitation\",\n",
    "            \"min_temp\": \"$weather.min_temp\",\n",
    "            \"max_temp\": \"$weather.max_temp\",\n",
    "            \"morning_temp\": \"$weather.morning_temp\",\n",
    "            \"afternoon_temp\": \"$weather.afternoon_temp\",\n",
    "            \"evening_temp\": \"$weather.evening_temp\",\n",
    "            \"night_temp\": \"$weather.night_temp\",\n",
    "            \"max_windspeed\": \"$weather.max_windspeed\",\n",
    "            \"significant_precipitation\": \"$weather.significant_precipitation\"\n",
    "        }\n",
    "    }\n",
    "]\n",
    "\n",
    "# Create a new collection to store the merged data\n",
    "divvy_rides_and_weather = divvy_db[\"divvy_rides_and_weather\"]\n",
    "\n",
    "# Drop the collection if it already exists\n",
    "divvy_rides_and_weather.drop()\n",
    "\n",
    "# Execute the aggregation pipeline and insert the results into the new collection\n",
    "results = list(divvy_db.divvy_rides_by_day.aggregate(pipeline))\n",
    "\n",
    "# Insert each result document into the new collection\n",
    "for result in results:\n",
    "    divvy_rides_and_weather.insert_one(result)\n",
    "\n",
    "print(\"Merged data has been created in the 'divvy_rides_and_weather' collection.\")"
   ]
  }
 ],
 "metadata": {
  "kernelspec": {
   "display_name": "divvy-bikes",
   "language": "python",
   "name": "python3"
  },
  "language_info": {
   "codemirror_mode": {
    "name": "ipython",
    "version": 3
   },
   "file_extension": ".py",
   "mimetype": "text/x-python",
   "name": "python",
   "nbconvert_exporter": "python",
   "pygments_lexer": "ipython3",
   "version": "3.10.12"
  },
  "orig_nbformat": 4
 },
 "nbformat": 4,
 "nbformat_minor": 2
}
