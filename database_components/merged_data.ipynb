{
 "cells": [
  {
   "cell_type": "code",
   "execution_count": 2,
   "metadata": {},
   "outputs": [],
   "source": [
    "import pymongo\n",
    "from pymongo import MongoClient, UpdateOne\n",
    "import json\n",
    "from pprint import pprint"
   ]
  },
  {
   "cell_type": "code",
   "execution_count": 3,
   "metadata": {},
   "outputs": [
    {
     "name": "stdout",
     "output_type": "stream",
     "text": [
      "Mongo Database Name: divvy_db\n",
      "Mongo Collection Names: ['divvy_ride_data', 'divvy_ridedata', 'weather_daily']\n"
     ]
    }
   ],
   "source": [
    "# Create an instance of MongoClient\n",
    "mongo = MongoClient(port=27017)\n",
    "\n",
    "# Assign the database variable\n",
    "db = mongo.divvy_db\n",
    "\n",
    "# Assign the colloections variable\n",
    "divvy_rides = db['divvy_ride_data']\n",
    "weather_daily = db['weather_daily']\n",
    "divvy_ride_data_merged = db[\"divvy_ride_data_merged\"]\n",
    "\n",
    "print(f'Mongo Database Name: {db.name}')\n",
    "print(f'Mongo Collection Names: {db.list_collection_names()}')"
   ]
  },
  {
   "cell_type": "code",
   "execution_count": 4,
   "metadata": {},
   "outputs": [
    {
     "name": "stdout",
     "output_type": "stream",
     "text": [
      "Collection: divvy_ride_data, Document Count: 5667717\n",
      "Collection: divvy_ridedata, Document Count: 0\n",
      "Collection: weather_daily, Document Count: 365\n"
     ]
    }
   ],
   "source": [
    "# Show all the collections with docoment count\n",
    "collection_names = db.list_collection_names()\n",
    "\n",
    "for collection_name in collection_names:\n",
    "    collection = db[collection_name]\n",
    "    document_count = collection.count_documents({})\n",
    "    print(f'Collection: {collection_name}, Document Count: {document_count}')"
   ]
  },
  {
   "cell_type": "code",
   "execution_count": 17,
   "metadata": {},
   "outputs": [
    {
     "name": "stdout",
     "output_type": "stream",
     "text": [
      "{'_id': ObjectId('650f7a7291cca7bfdb2c89da'),\n",
      " 'end_lat': 42.01256011541,\n",
      " 'end_lng': -87.6743671152,\n",
      " 'end_station_id': 'RP-007',\n",
      " 'end_station_name': 'Clark St & Touhy Ave',\n",
      " 'ended_at': '2022-01-10 08:46:17',\n",
      " 'member_casual': 'casual',\n",
      " 'ride_id': 'A6CF8980A652D272',\n",
      " 'rideable_type': 'electric_bike',\n",
      " 'start_lat': 42.012763,\n",
      " 'start_lng': -87.6659675,\n",
      " 'start_station_id': 525,\n",
      " 'start_station_name': 'Glenwood Ave & Touhy Ave',\n",
      " 'started_at': '2022-01-10 08:41:56'}\n"
     ]
    }
   ],
   "source": [
    "document = divvy_rides.find_one()\n",
    "pprint(document)"
   ]
  },
  {
   "cell_type": "code",
   "execution_count": 10,
   "metadata": {},
   "outputs": [
    {
     "data": {
      "text/plain": [
       "'date_1'"
      ]
     },
     "execution_count": 10,
     "metadata": {},
     "output_type": "execute_result"
    }
   ],
   "source": [
    "divvy_rides.create_index([(\"started_at_date\", 1)])\n",
    "weather_daily.create_index([(\"date\", 1)])"
   ]
  },
  {
   "cell_type": "code",
   "execution_count": null,
   "metadata": {},
   "outputs": [],
   "source": [
    "pipeline = [\n",
    "    {\n",
    "        '$lookup': {\n",
    "            'from': 'weather_daily',\n",
    "            'localField': 'started_at_date',\n",
    "            'foreignField': 'date',\n",
    "            'as': 'weather_data'\n",
    "        }\n",
    "    },\n",
    "    {\n",
    "        '$unwind': {\n",
    "            'path': '$weather_data',\n",
    "            'preserveNullAndEmptyArrays': True\n",
    "        }\n",
    "    },\n",
    "    {\n",
    "        '$merge': {\n",
    "            'into': 'divvy_ride_data_merged',  # Replace with your new collection name\n",
    "            'whenMatched': 'merge',  # Merge documents with matching _id fields\n",
    "            'whenNotMatched': 'insert'  # Insert documents that don't match\n",
    "        }\n",
    "    },\n",
    "]\n",
    "\n",
    "divvy_rides.aggregate(pipeline)\n",
    "print(\"Update completed successfully.\")"
   ]
  },
  {
   "cell_type": "code",
   "execution_count": null,
   "metadata": {},
   "outputs": [],
   "source": [
    "# Access the database and collection\n",
    "collection = db[\"divvy_ride_data_merged\"]  # Replace with your collection name\n",
    "\n",
    "# Count the documents in the collection\n",
    "document_count = collection.count_documents({})\n",
    "print(\"Total number of documents:\", document_count)"
   ]
  }
 ],
 "metadata": {
  "kernelspec": {
   "display_name": "divvy-bikes",
   "language": "python",
   "name": "python3"
  },
  "language_info": {
   "codemirror_mode": {
    "name": "ipython",
    "version": 3
   },
   "file_extension": ".py",
   "mimetype": "text/x-python",
   "name": "python",
   "nbconvert_exporter": "python",
   "pygments_lexer": "ipython3",
   "version": "3.10.12"
  },
  "orig_nbformat": 4
 },
 "nbformat": 4,
 "nbformat_minor": 2
}
