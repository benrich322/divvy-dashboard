{
 "cells": [
  {
   "cell_type": "code",
   "execution_count": 7,
   "metadata": {},
   "outputs": [],
   "source": [
    "# Import the dependencies\n",
    "import os\n",
    "from flask import Flask, jsonify\n",
    "from flask_cors import CORS\n",
    "from pymongo import MongoClient\n",
    "import json"
   ]
  },
  {
   "cell_type": "code",
   "execution_count": 8,
   "metadata": {},
   "outputs": [],
   "source": [
    "def read_geojson_file(file_path):\n",
    "    try:\n",
    "        with open(file_path, \"r\") as geojson_file:\n",
    "            geojson_data = json.load(geojson_file)\n",
    "        return geojson_data\n",
    "    except Exception as e:\n",
    "        print(f\"Error reading GeoJSON file: {str(e)}\")\n",
    "        return None"
   ]
  },
  {
   "cell_type": "code",
   "execution_count": 9,
   "metadata": {},
   "outputs": [],
   "source": [
    "geojson_file_path = \"../database_components/location_data/chicago_community_area.geojson\"\n",
    "community_area_boundary_geojson = read_geojson_file(geojson_file_path)\n"
   ]
  }
 ],
 "metadata": {
  "kernelspec": {
   "display_name": "divvy-bikes",
   "language": "python",
   "name": "python3"
  },
  "language_info": {
   "codemirror_mode": {
    "name": "ipython",
    "version": 3
   },
   "file_extension": ".py",
   "mimetype": "text/x-python",
   "name": "python",
   "nbconvert_exporter": "python",
   "pygments_lexer": "ipython3",
   "version": "3.10.12"
  },
  "orig_nbformat": 4
 },
 "nbformat": 4,
 "nbformat_minor": 2
}
