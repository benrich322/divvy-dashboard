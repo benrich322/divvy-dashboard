{
 "cells": [
  {
   "cell_type": "markdown",
   "metadata": {},
   "source": [
    "## Summary of the Mongo Databases and Collections being used"
   ]
  },
  {
   "cell_type": "code",
   "execution_count": 4,
   "metadata": {},
   "outputs": [],
   "source": [
    "from pymongo import MongoClient\n",
    "from database_components.config import connection_string"
   ]
  },
  {
   "cell_type": "code",
   "execution_count": 5,
   "metadata": {},
   "outputs": [],
   "source": [
    "# Connect to my local MongoDB database\n",
    "mongo = MongoClient(port=27017)\n",
    "mongo_public = MongoClient(connection_string)\n",
    "\n",
    "divvy_db = mongo.divvy_db \n",
    "divvy_db_public = mongo_public.divvy_db_public"
   ]
  },
  {
   "cell_type": "markdown",
   "metadata": {},
   "source": [
    "### divvy_db summary"
   ]
  },
  {
   "cell_type": "code",
   "execution_count": 6,
   "metadata": {},
   "outputs": [
    {
     "name": "stdout",
     "output_type": "stream",
     "text": [
      "Collection Name: divvy_ride_data\n",
      "Document Count: 5667717\n",
      "Field Names: _id, ride_id, rideable_type, started_at, ended_at, start_station_name, start_station_id, end_station_name, end_station_id, start_lat, start_lng, end_lat, end_lng, member_casual, started_at_date, started_at_time, ended_at_date, ended_at_time\n",
      "Sample Document:\n",
      "{'_id': ObjectId('650f7a7291cca7bfdb2c89da'), 'ride_id': 'A6CF8980A652D272', 'rideable_type': 'electric_bike', 'started_at': '2022-01-10 08:41:56', 'ended_at': '2022-01-10 08:46:17', 'start_station_name': 'Glenwood Ave & Touhy Ave', 'start_station_id': 525, 'end_station_name': 'Clark St & Touhy Ave', 'end_station_id': 'RP-007', 'start_lat': 42.012763, 'start_lng': -87.6659675, 'end_lat': 42.01256011541, 'end_lng': -87.6743671152, 'member_casual': 'casual', 'started_at_date': '2022-01-10', 'started_at_time': '08:41:56', 'ended_at_date': '2022-01-10', 'ended_at_time': '08:46:17'}\n",
      "\n",
      "\n",
      "Collection Name: station_names\n",
      "Document Count: 1674\n",
      "Field Names: _id, lat, lng, ride_count, station_name, city, neighborhood, ward, community_area\n",
      "Sample Document:\n",
      "{'_id': 'Clark St & Armitage Ave', 'lat': 41.918306, 'lng': -87.636282, 'ride_count': 29051, 'station_name': 'Clark St & Armitage Ave', 'city': 'CHICAGO', 'neighborhood': 'Old Town', 'ward': '43', 'community_area': 'LINCOLN PARK'}\n",
      "\n",
      "\n",
      "Collection Name: divvy_ride_data_sample\n",
      "Document Count: 103770\n",
      "Field Names: _id, ride_id, rideable_type, started_at, ended_at, start_station_name, start_station_id, end_station_name, end_station_id, start_lat, start_lng, end_lat, end_lng, member_casual, started_at_date, started_at_time, ended_at_date, ended_at_time\n",
      "Sample Document:\n",
      "{'_id': ObjectId('6510c4d6ad8024f38cbfa26f'), 'ride_id': 'C2F7DD78E82EC875', 'rideable_type': 'electric_bike', 'started_at': '2022-01-13 11:59:47', 'ended_at': '2022-01-13 12:02:44', 'start_station_name': 'Glenwood Ave & Touhy Ave', 'start_station_id': 525, 'end_station_name': 'Clark St & Touhy Ave', 'end_station_id': 'RP-007', 'start_lat': 42.0128005, 'start_lng': -87.665906, 'end_lat': 42.01256011541, 'end_lng': -87.6743671152, 'member_casual': 'casual', 'started_at_date': '2022-01-13', 'started_at_time': '11:59:47', 'ended_at_date': '2022-01-13', 'ended_at_time': '12:02:44'}\n",
      "\n",
      "\n",
      "Collection Name: weather_daily\n",
      "Document Count: 365\n",
      "Field Names: _id, date, cloud_cover, precipitation, min_temp, max_temp, morning_temp, afternoon_temp, evening_temp, night_temp, max_windspeed, significant_precipitation\n",
      "Sample Document:\n",
      "{'_id': ObjectId('65108c65d3f3ef7df018a61e'), 'date': '2022-01-05', 'cloud_cover': 64.0, 'precipitation': 0.009842525, 'min_temp': 13.57, 'max_temp': 33.39, 'morning_temp': 31.53, 'afternoon_temp': 32.74, 'evening_temp': 22.19, 'night_temp': 31.64, 'max_windspeed': 17.0, 'significant_precipitation': 'False'}\n",
      "\n",
      "\n"
     ]
    }
   ],
   "source": [
    "collection_names = divvy_db.list_collection_names()\n",
    "\n",
    "# Loop through each collection\n",
    "for collection_name in collection_names:\n",
    "    collection = divvy_db[collection_name]\n",
    "\n",
    "    # Get the collection name\n",
    "    print(f\"Collection Name: {collection_name}\")\n",
    "\n",
    "    # Get the count of documents in the collection\n",
    "    document_count = collection.count_documents({})\n",
    "    print(f\"Document Count: {document_count}\")\n",
    "\n",
    "    # Get the field names in a sample document (assuming at least one document exists)\n",
    "    sample_document = collection.find_one()\n",
    "    if sample_document:\n",
    "        field_names = list(sample_document.keys())\n",
    "        print(f\"Field Names: {', '.join(field_names)}\")\n",
    "\n",
    "        # Print a sample document\n",
    "        print(\"Sample Document:\")\n",
    "        print(sample_document)\n",
    "    else:\n",
    "        print(\"No documents found in the collection.\")\n",
    "\n",
    "    print(\"\\n\")"
   ]
  },
  {
   "cell_type": "markdown",
   "metadata": {},
   "source": [
    "### db_divvy_public summary"
   ]
  },
  {
   "cell_type": "code",
   "execution_count": 7,
   "metadata": {},
   "outputs": [
    {
     "name": "stdout",
     "output_type": "stream",
     "text": [
      "Collection Name: station_names\n",
      "Document Count: 1674\n",
      "Field Names: _id, lat, lng, ride_count, station_name, city, neighborhood, ward, community_area\n",
      "Sample Document:\n",
      "{'_id': 'Clark St & Armitage Ave', 'lat': 41.918306, 'lng': -87.636282, 'ride_count': 29051, 'station_name': 'Clark St & Armitage Ave', 'city': 'CHICAGO', 'neighborhood': 'Old Town', 'ward': '43', 'community_area': 'LINCOLN PARK'}\n",
      "\n",
      "\n"
     ]
    }
   ],
   "source": [
    "collection_names = divvy_db_public.list_collection_names()\n",
    "\n",
    "# Loop through each collection\n",
    "for collection_name in collection_names:\n",
    "    collection = divvy_db_public[collection_name]\n",
    "\n",
    "    # Get the collection name\n",
    "    print(f\"Collection Name: {collection_name}\")\n",
    "\n",
    "    # Get the count of documents in the collection\n",
    "    document_count = collection.count_documents({})\n",
    "    print(f\"Document Count: {document_count}\")\n",
    "\n",
    "    # Get the field names in a sample document (assuming at least one document exists)\n",
    "    sample_document = collection.find_one()\n",
    "    if sample_document:\n",
    "        field_names = list(sample_document.keys())\n",
    "        print(f\"Field Names: {', '.join(field_names)}\")\n",
    "\n",
    "        # Print a sample document\n",
    "        print(\"Sample Document:\")\n",
    "        print(sample_document)\n",
    "    else:\n",
    "        print(\"No documents found in the collection.\")\n",
    "\n",
    "    print(\"\\n\")"
   ]
  }
 ],
 "metadata": {
  "kernelspec": {
   "display_name": "divvy-bikes",
   "language": "python",
   "name": "python3"
  },
  "language_info": {
   "codemirror_mode": {
    "name": "ipython",
    "version": 3
   },
   "file_extension": ".py",
   "mimetype": "text/x-python",
   "name": "python",
   "nbconvert_exporter": "python",
   "pygments_lexer": "ipython3",
   "version": "3.10.12"
  },
  "orig_nbformat": 4
 },
 "nbformat": 4,
 "nbformat_minor": 2
}
